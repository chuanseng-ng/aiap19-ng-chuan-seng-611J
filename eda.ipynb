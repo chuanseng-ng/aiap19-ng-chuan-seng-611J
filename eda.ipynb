{
 "cells": [
  {
   "cell_type": "markdown",
   "metadata": {},
   "source": [
    "# Analyze problem statement to identify approach to fulfill goals"
   ]
  },
  {
   "cell_type": "markdown",
   "metadata": {},
   "source": [
    "Company faces significant challenges in optimizing crop yields and resource management <br>\n",
    "Need to prioritize focus on these 2 objectives"
   ]
  },
  {
   "cell_type": "markdown",
   "metadata": {},
   "source": [
    "1. Predict temperature conditions within farm's closed environment, ensuring optimal plant growth\n",
    "  - Regression modelling task\n",
    "  - Need to identify relevant/related features within provided database\n",
    "<br><br>\n",
    "2. Categorize combined \"Plant Type-Stage\" based on sensor data, aiding in strategic planning and resource allocation\n",
    "  - Classification modelling task\n",
    "  - Need to identify relevant/related features within provided database"
   ]
  },
  {
   "cell_type": "markdown",
   "metadata": {},
   "source": [
    "# Setup environment, SQL connection and analyze SQL database"
   ]
  },
  {
   "cell_type": "markdown",
   "metadata": {},
   "source": [
    "Necessary libraries will be imported when needed"
   ]
  },
  {
   "cell_type": "markdown",
   "metadata": {},
   "source": [
    "Establish connection SQL database (agri.db) using relative path 'data/agri.db'"
   ]
  },
  {
   "cell_type": "code",
   "execution_count": null,
   "metadata": {},
   "outputs": [],
   "source": [
    "# Import libraries as needed\n",
    "import sqlite3\n",
    "\n",
    "# Set path to SQL database\n",
    "db_path = \"data/agri.db\"\n",
    "\n",
    "# Create connection to SQL database\n",
    "conn = sqlite3.connect(db_path)"
   ]
  },
  {
   "cell_type": "markdown",
   "metadata": {},
   "source": [
    "Set pandas options for better readability"
   ]
  },
  {
   "cell_type": "code",
   "execution_count": null,
   "metadata": {},
   "outputs": [],
   "source": [
    "import pandas as pd\n",
    "\n",
    "pd.set_option('display.max_columns', None) # Display all columns in DataFrame\n",
    "pd.set_option('display.max_rows', 100)     # Limit number of rows displayed to 100"
   ]
  },
  {
   "cell_type": "markdown",
   "metadata": {},
   "source": [
    "Explore database structure by listing all tables to identify available tables for extraction"
   ]
  },
  {
   "cell_type": "code",
   "execution_count": null,
   "metadata": {},
   "outputs": [],
   "source": [
    "import pandas as pd\n",
    "\n",
    "# Query to list all tables in database\n",
    "query = \"SELECT name FROM sqlite_master WHERE type='table';\"\n",
    "tables = pd.read_sql(query, conn)\n",
    "\n",
    "# Display list of tables\n",
    "tables"
   ]
  },
  {
   "cell_type": "markdown",
   "metadata": {},
   "source": [
    "Since there is only 'farm_data' table in the database, the first few rows can be previewed to understand the column structure <br>\n",
    "This can be cross-checked with the provided list of attributes in the PDF"
   ]
  },
  {
   "cell_type": "code",
   "execution_count": null,
   "metadata": {},
   "outputs": [],
   "source": [
    "# Preview first few rows of 'farm_data' table\n",
    "farm_data_10_query = \"SELECT * FROM farm_data LIMIT 10;\"\n",
    "farm_data_10_df = pd.read_sql(farm_data_10_query, conn)\n",
    "\n",
    "# Display first few rows of table\n",
    "farm_data_10_df.head(10)"
   ]
  },
  {
   "cell_type": "markdown",
   "metadata": {},
   "source": [
    "There are a few issues in the current database that will have to be sorted out before the data can be used for feature engineering or used in machine learning modelling <br>\n",
    "<br>\n",
    "Currently identified issues:\n",
    "| Column Name | Issue |\n",
    "| :---------: | :---: |\n",
    "| Plant Type  | Non-standardized naming format |\n",
    "| Plant Stage | Non-standardized naming format |\n",
    "| Temperature Sensor | Missing values (NaN) |\n",
    "|                    | Negative value |\n",
    "| Humidity Sensor | Missing values (NaN) |\n",
    "| Nutrient * Sensor | Missing value (None) |\n",
    "|                   | Values with units |\n",
    "| Water Level Sensor | Missing value (NaN) |"
   ]
  },
  {
   "cell_type": "markdown",
   "metadata": {},
   "source": [
    "The schema of 'farm_data' table can be retrieved to understand the columns' data type <br>\n",
    "However, this might not be fully accurate prior to data clean-up due to missing or incorrectly labelled values"
   ]
  },
  {
   "cell_type": "code",
   "execution_count": null,
   "metadata": {},
   "outputs": [],
   "source": [
    "# Get schema of 'farm_data' table\n",
    "schema_query = \"PRAGMA table_info(farm_data);\"\n",
    "schema_df = pd.read_sql(schema_query, conn)\n",
    "\n",
    "# Display schema information\n",
    "schema_df"
   ]
  },
  {
   "cell_type": "markdown",
   "metadata": {},
   "source": [
    "Most of the columns' data type match expectations, except for Nutrient Sensors <br>\n",
    "These columns should have REAL/INTEGER type but are currently of TEXT type <br> <br>\n",
    "To handle this, the missing values will have to resolved and the values with units need to be processed <br>\n",
    "After both steps are done, the columns' data can be converted to REAL/INTEGER type"
   ]
  },
  {
   "cell_type": "markdown",
   "metadata": {},
   "source": [
    "# Perform Exploratory Data Analysis (EDA) on SQL table data"
   ]
  },
  {
   "cell_type": "markdown",
   "metadata": {},
   "source": [
    "Load all data from 'farm_data' table into a DataFrame to start data analysis"
   ]
  },
  {
   "cell_type": "code",
   "execution_count": null,
   "metadata": {},
   "outputs": [],
   "source": [
    "# Get all data from 'farm_data' table\n",
    "farm_data_query = \"SELECT * FROM farm_data;\"\n",
    "farm_data_df = pd.read_sql_query(farm_data_query, conn)"
   ]
  },
  {
   "cell_type": "markdown",
   "metadata": {},
   "source": [
    "Start with data preprocessing to clean-up missing values, non-standardized naming format and extra info in values"
   ]
  },
  {
   "cell_type": "markdown",
   "metadata": {},
   "source": [
    "The data in columns (Plant Type, Plant Stage) will all be changed to lowercase characters to standardize the data"
   ]
  },
  {
   "cell_type": "code",
   "execution_count": null,
   "metadata": {},
   "outputs": [],
   "source": [
    "non_standard_name_list = [\"Plant Type\", \"Plant Stage\"]\n",
    "\n",
    "for col_name in non_standard_name_list:\n",
    "    farm_data_df[col_name] = farm_data_df[col_name].str.lower()\n"
   ]
  },
  {
   "cell_type": "markdown",
   "metadata": {},
   "source": [
    "Remove 'ppm' from Nutrient * Sensor column data and convert the data into numeric type"
   ]
  },
  {
   "cell_type": "code",
   "execution_count": null,
   "metadata": {},
   "outputs": [],
   "source": [
    "ppm_drop_list = [\"Nutrient N Sensor (ppm)\", \"Nutrient P Sensor (ppm)\", \"Nutrient K Sensor (ppm)\"]\n",
    "\n",
    "for col_name in ppm_drop_list:\n",
    "    farm_data_df[col_name] = farm_data_df[col_name].str.replace(\"ppm\", \"\", regex=False)\n",
    "    farm_data_df[col_name] = pd.to_numeric(farm_data_df[col_name], errors=\"coerce\")"
   ]
  },
  {
   "cell_type": "markdown",
   "metadata": {},
   "source": [
    "Remove negative sign in Temperature Sensor column data"
   ]
  },
  {
   "cell_type": "code",
   "execution_count": null,
   "metadata": {},
   "outputs": [],
   "source": [
    "# Get Temperature Sensor column name\n",
    "farm_data_df_col_list = farm_data_df.columns\n",
    "\n",
    "for col_name in farm_data_df_col_list:\n",
    "    if \"Temperature Sensor\" in col_name:\n",
    "        temp_sensor_col_name = col_name\n",
    "\n",
    "farm_data_df[temp_sensor_col_name] = farm_data_df[temp_sensor_col_name].abs()"
   ]
  },
  {
   "cell_type": "markdown",
   "metadata": {},
   "source": [
    "After checking the current DataFrame, it seems that Light Intensity Sensor column also has missing values <br>\n",
    "So that will be handled together with the other affected columns"
   ]
  },
  {
   "cell_type": "markdown",
   "metadata": {},
   "source": [
    "For the remaining columns with missing values, they will be filled with either mean or median values of their zone <br>\n",
    "The existing data of each column will be grouped into their System Location Code to obtain the mean and median values"
   ]
  },
  {
   "cell_type": "markdown",
   "metadata": {},
   "source": [
    "Here is the breakdown of each column:\n",
    "| Column Name | Mean/Median | Reason |\n",
    "| :---------: | :---------: | :----: |\n",
    "| Temperature Sensor | Mean | Data is relatively stable and has normal distribution |\n",
    "| Humidity Sensor | Median  | Data is not normally distributed, no clear pattern |\n",
    "| Light Intensity Sensor | Median | Data is skewed towards the upper half of the spectrum |\n",
    "| Nutrient N Sensor | Median | Data has sudden dip and spike near right of spectrum |\n",
    "| Nutrient P Sensor | Median | Data has sudden dip and spike near left of spectrum |\n",
    "| Nutrient K Sensor | Median | Data has sudden dip and spike near right of spectrum |\n",
    "| Water Level Sensor | Median | To avoid outliers at extreme ends of spectrum |"
   ]
  },
  {
   "cell_type": "markdown",
   "metadata": {},
   "source": [
    "The mean and median of each column with missing value is still calculated and displayed"
   ]
  },
  {
   "cell_type": "code",
   "execution_count": null,
   "metadata": {},
   "outputs": [],
   "source": [
    "agg_list = [\"mean\", \"median\"]\n",
    "no_nan_col_list = farm_data_df.columns[farm_data_df.isnull().sum() == 0].tolist()\n",
    "# Don't drop 'System Location Code' column else there is no zone to groupby\n",
    "no_nan_col_list = [col for col in no_nan_col_list if col != \"System Location Code\"]\n",
    "\n",
    "nan_farm_data_df =  farm_data_df.drop(columns=no_nan_col_list)\n",
    "\n",
    "nan_farm_data_grouped_df = nan_farm_data_df.groupby(\"System Location Code\").agg(agg_list)\n",
    "\n",
    "nan_farm_data_grouped_df"
   ]
  },
  {
   "cell_type": "markdown",
   "metadata": {},
   "source": [
    "It can be seen that for each column, the mean and median values differ by some margin <br>\n",
    "So choosing the appropriate one to replace missing value is important"
   ]
  },
  {
   "cell_type": "markdown",
   "metadata": {},
   "source": [
    "The missing values of each column will be replaced as showed in the above table"
   ]
  },
  {
   "cell_type": "code",
   "execution_count": null,
   "metadata": {},
   "outputs": [],
   "source": [
    "# Create new DataFrame for data after removing missing values\n",
    "clean_farm_data_df = farm_data_df\n",
    "\n",
    "# Replace 'Temperature Sensor' column missing value with mean\n",
    "clean_farm_data_df[temp_sensor_col_name] = clean_farm_data_df[temp_sensor_col_name].fillna(clean_farm_data_df[temp_sensor_col_name].mean())\n",
    "\n",
    "nan_col_list = clean_farm_data_df.columns[clean_farm_data_df.isnull().any()].tolist()\n",
    "# Remove 'Temperature Sensor' column name from list as it uses mean instead of median\n",
    "nan_col_list = [col for col in nan_col_list if col != temp_sensor_col_name]\n",
    "\n",
    "# Replace remaining affected column missing value with median\n",
    "for col_name in nan_col_list:\n",
    "    clean_farm_data_df[col_name] = clean_farm_data_df[col_name].fillna(clean_farm_data_df[col_name].median())\n",
    "\n",
    "clean_farm_data_df"
   ]
  },
  {
   "cell_type": "markdown",
   "metadata": {},
   "source": [
    "Based on the current data and data types, each column can be categorized as categorical or numerical types <br>\n",
    "Categorical represents categories or labels, so usually the data are of string or object data type <br>\n",
    "Numerical represents quantiative data, which can be either continuous or discrete"
   ]
  },
  {
   "cell_type": "markdown",
   "metadata": {},
   "source": [
    "Here is the breakdown:\n",
    "| Column Name | Type |\n",
    "| :---------: | :--: |\n",
    "| System Location Code | Categorical |\n",
    "| Previous Cycle Plant Type | Categorical |\n",
    "| Plant Type | Categorical |\n",
    "| Plant Stage | Categorical |\n",
    "| Temperature Sensor | Numerical |\n",
    "| Humidity Sensor | Numerical |\n",
    "| Light Intensity Sensor | Numerical |\n",
    "| CO2 Sensor | Numerical |\n",
    "| EC Sensor | Numerical |\n",
    "| O2 Sensor | Numerical |\n",
    "| Nutrient * Sensor | Numerical |\n",
    "| pH Level | Numerical |\n",
    "| Water Level Sensor | Numerical |"
   ]
  },
  {
   "cell_type": "markdown",
   "metadata": {},
   "source": [
    "The distribution of the categorical variables are plotted for visualization <br>\n",
    "It is to get a sense of how the data is categorized and the evenness of the distribution"
   ]
  },
  {
   "cell_type": "code",
   "execution_count": null,
   "metadata": {},
   "outputs": [],
   "source": [
    "import matplotlib.pyplot as plt\n",
    "import seaborn as sns\n",
    "\n",
    "cat_col_list = [\"System Location Code\", \"Previous Cycle Plant Type\", \"Plant Type\", \"Plant Stage\"]\n",
    "\n",
    "for col_name in cat_col_list:\n",
    "    plt.figure(figsize=(10,5))\n",
    "    sns.countplot(x=col_name, data=clean_farm_data_df)\n",
    "    plt.title(f\"Distribution of {col_name}\")\n",
    "    plt.xticks(rotation=45)\n",
    "    plt.show()"
   ]
  },
  {
   "cell_type": "markdown",
   "metadata": {},
   "source": [
    "It can be seen that the data distribution of all 4 columns are rather even across all the distinct values <br>\n",
    "It means that there is no need to do any further data processing to balance out skewed data"
   ]
  },
  {
   "cell_type": "markdown",
   "metadata": {},
   "source": [
    "These columns will need to have their data values converted into categorical numeric values via label categorization and/or one-hot encoding<br>\n",
    "Else it is not possible to use these columns for correlation analysis and machine learning modelling in later steps"
   ]
  },
  {
   "cell_type": "code",
   "execution_count": null,
   "metadata": {},
   "outputs": [],
   "source": [
    "from sklearn.preprocessing import LabelEncoder\n",
    "\n",
    "# Create new DataFrame for post-encoding\n",
    "encoded_farm_data_df = clean_farm_data_df\n",
    "\n",
    "# Perform label encoding on 'Plant Stage' as there is an ordered stage to it\n",
    "lab_enc = LabelEncoder()\n",
    "encoded_farm_data_df[\"Plant Stage\"] = lab_enc.fit_transform(encoded_farm_data_df[\"Plant Stage\"])\n",
    "\n",
    "# Perform one-hot encoding on the other columns as there is no order\n",
    "fil_cat_col_list = [item for item in cat_col_list if item != \"Plant Stage\"]\n",
    "encoded_farm_data_df = pd.get_dummies(encoded_farm_data_df, columns=fil_cat_col_list, drop_first=True)\n",
    "bool_col = encoded_farm_data_df.select_dtypes(include=[\"bool\"]).columns\n",
    "encoded_farm_data_df[bool_col] = encoded_farm_data_df[bool_col].astype(int)\n",
    "encoded_farm_data_df"
   ]
  },
  {
   "cell_type": "markdown",
   "metadata": {},
   "source": [
    "The distribution and relationship of numerical variables are plotted for visualization"
   ]
  },
  {
   "cell_type": "code",
   "execution_count": null,
   "metadata": {},
   "outputs": [],
   "source": [
    "num_col_list = [item for item in farm_data_df_col_list if item not in cat_col_list]\n",
    "\n",
    "for col_name in num_col_list:\n",
    "    plt.figure(figsize=(10,5))\n",
    "    sns.histplot(clean_farm_data_df[col_name], kde=True)\n",
    "    plt.title(f\"Distribution of {col_name}\")\n",
    "    plt.show()"
   ]
  },
  {
   "cell_type": "markdown",
   "metadata": {},
   "source": [
    "After replacing the missing values, there is a sharp sudden spike in the median region for the affected features <br>\n",
    "This helps to create a normal distribution in the features but due to the number of missing values replaced creating a sharp spike, the impact will have to be assessed in the later stage"
   ]
  },
  {
   "cell_type": "markdown",
   "metadata": {},
   "source": [
    "These numerical values will need to be standardized via standard scaling <br>\n",
    "This makes the features have mean of 0 and standard deviation of 1 <br>\n",
    "This helps the algorithm perform better as the input features would be on a similar scale"
   ]
  },
  {
   "cell_type": "code",
   "execution_count": null,
   "metadata": {},
   "outputs": [],
   "source": [
    "from sklearn.preprocessing import StandardScaler\n",
    "\n",
    "# Standardize numerical data-set\n",
    "scaler = StandardScaler()\n",
    "encoded_farm_data_df[num_col_list] = scaler.fit_transform(encoded_farm_data_df[num_col_list])\n",
    "encoded_farm_data_df"
   ]
  },
  {
   "cell_type": "markdown",
   "metadata": {},
   "source": [
    "# Analyze patterns and distribution in DataFrame"
   ]
  },
  {
   "cell_type": "markdown",
   "metadata": {},
   "source": [
    "Plot heatmap for visualization to perform dimension reduction in latter steps <br>\n",
    "Dimension reduction is needed to eliminate redundant/relevant data that are not important in predicting/classifying the expected outcome"
   ]
  },
  {
   "cell_type": "code",
   "execution_count": null,
   "metadata": {},
   "outputs": [],
   "source": [
    "# Calculate correlation matrix\n",
    "corr_matrix = encoded_farm_data_df.corr()\n",
    "\n",
    "# Create heatmap of correlation matrix\n",
    "plt.figure(figsize=(10,8))\n",
    "sns.heatmap(corr_matrix, annot=True, cmap=\"coolwarm\", fmt=\".2f\", linewidths=0.5)\n",
    "\n",
    "# Show plot\n",
    "plt.title(\"Correlation matrix heatmap\")\n",
    "plt.tight_layout()\n",
    "plt.show()"
   ]
  }
 ],
 "metadata": {
  "kernelspec": {
   "display_name": "Python 3",
   "language": "python",
   "name": "python3"
  },
  "language_info": {
   "codemirror_mode": {
    "name": "ipython",
    "version": 3
   },
   "file_extension": ".py",
   "mimetype": "text/x-python",
   "name": "python",
   "nbconvert_exporter": "python",
   "pygments_lexer": "ipython3",
   "version": "3.10.5"
  }
 },
 "nbformat": 4,
 "nbformat_minor": 2
}
